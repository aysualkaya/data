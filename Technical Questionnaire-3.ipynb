{
 "cells": [
  {
   "cell_type": "code",
   "execution_count": 1,
   "id": "81e3f554",
   "metadata": {},
   "outputs": [],
   "source": [
    "import pandas as pd"
   ]
  },
  {
   "cell_type": "code",
   "execution_count": 2,
   "id": "973cc59a",
   "metadata": {},
   "outputs": [],
   "source": [
    "# Read the CSV file into a DataFrame\n",
    "df = pd.read_csv('country_vaccination_stats_imputed.csv')"
   ]
  },
  {
   "cell_type": "code",
   "execution_count": 3,
   "id": "d79e0aa7",
   "metadata": {},
   "outputs": [],
   "source": [
    "# Convert date column to datetime type\n",
    "df['date'] = pd.to_datetime(df['date'])"
   ]
  },
  {
   "cell_type": "code",
   "execution_count": 4,
   "id": "05dd0bce",
   "metadata": {},
   "outputs": [],
   "source": [
    "# Sort the DataFrame by country and date\n",
    "df = df.sort_values(by=['country', 'date'])"
   ]
  },
  {
   "cell_type": "code",
   "execution_count": 5,
   "id": "5716ce17",
   "metadata": {},
   "outputs": [],
   "source": [
    "# Define a function to fill missing values in daily_vaccinations column\n",
    "def fill_missing_vaccinations(group):\n",
    "    if group['daily_vaccinations'].isnull().all():\n",
    "        group['daily_vaccinations'] = 0\n",
    "    else:\n",
    "        group['daily_vaccinations'] = group['daily_vaccinations'].fillna(method='ffill').fillna(method='bfill').fillna(0)\n",
    "    return group"
   ]
  },
  {
   "cell_type": "code",
   "execution_count": 6,
   "id": "f2716349",
   "metadata": {},
   "outputs": [],
   "source": [
    "# Apply the function to fill missing values in daily_vaccinations column per country\n",
    "df = df.groupby('country').apply(fill_missing_vaccinations)"
   ]
  },
  {
   "cell_type": "code",
   "execution_count": 7,
   "id": "753ed970",
   "metadata": {},
   "outputs": [],
   "source": [
    "# Save the updated DataFrame to a new CSV file\n",
    "df.to_csv('country_vaccination_stats_imputed.csv', index=False)"
   ]
  },
  {
   "cell_type": "code",
   "execution_count": null,
   "id": "2cdeb314",
   "metadata": {},
   "outputs": [],
   "source": []
  }
 ],
 "metadata": {
  "kernelspec": {
   "display_name": "Python 3 (ipykernel)",
   "language": "python",
   "name": "python3"
  },
  "language_info": {
   "codemirror_mode": {
    "name": "ipython",
    "version": 3
   },
   "file_extension": ".py",
   "mimetype": "text/x-python",
   "name": "python",
   "nbconvert_exporter": "python",
   "pygments_lexer": "ipython3",
   "version": "3.11.5"
  }
 },
 "nbformat": 4,
 "nbformat_minor": 5
}
