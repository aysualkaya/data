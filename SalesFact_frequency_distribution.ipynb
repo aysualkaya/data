{
  "nbformat": 4,
  "nbformat_minor": 0,
  "metadata": {
    "colab": {
      "provenance": [],
      "authorship_tag": "ABX9TyOjzv78pp54Ul7i5rayHEQy",
      "include_colab_link": true
    },
    "kernelspec": {
      "name": "python3",
      "display_name": "Python 3"
    },
    "language_info": {
      "name": "python"
    }
  },
  "cells": [
    {
      "cell_type": "markdown",
      "metadata": {
        "id": "view-in-github",
        "colab_type": "text"
      },
      "source": [
        "<a href=\"https://colab.research.google.com/github/aysualkaya/data/blob/main/SalesFact_frequency_distribution.ipynb\" target=\"_parent\"><img src=\"https://colab.research.google.com/assets/colab-badge.svg\" alt=\"Open In Colab\"/></a>"
      ]
    },
    {
      "cell_type": "code",
      "execution_count": 22,
      "metadata": {
        "colab": {
          "base_uri": "https://localhost:8080/"
        },
        "id": "T8pzjv5o4EZV",
        "outputId": "9c760e42-051b-42a4-ee05-569896d33055"
      },
      "outputs": [
        {
          "output_type": "execute_result",
          "data": {
            "text/plain": [
              "$30K - $50K      3327\n",
              "$10K - $30K      2222\n",
              "$50K - $70K      1845\n",
              "$70K - $90K      1207\n",
              "$130K - $150K     506\n",
              "$110K - $130K     493\n",
              "$90K - $110K      458\n",
              "$150K +           223\n",
              "Name: yearly_income, dtype: int64"
            ]
          },
          "metadata": {},
          "execution_count": 22
        }
      ],
      "source": [
        "import pandas as pd\n",
        "data = pd.read_csv('sample_data/salesFact.csv')\n",
        "\n",
        "#frequency distributions\n",
        "data['yearly_income'].value_counts()"
      ]
    },
    {
      "cell_type": "code",
      "source": [
        "data['gender'].value_counts()"
      ],
      "metadata": {
        "colab": {
          "base_uri": "https://localhost:8080/"
        },
        "id": "03whTePYZ3kA",
        "outputId": "1c41b708-e573-4346-c713-cf7eea168d1e"
      },
      "execution_count": 15,
      "outputs": [
        {
          "output_type": "execute_result",
          "data": {
            "text/plain": [
              "M    5184\n",
              "F    5097\n",
              "Name: gender, dtype: int64"
            ]
          },
          "metadata": {},
          "execution_count": 15
        }
      ]
    },
    {
      "cell_type": "code",
      "source": [
        "data['marital_status'].value_counts()"
      ],
      "metadata": {
        "colab": {
          "base_uri": "https://localhost:8080/"
        },
        "id": "UYFBUC4mZ6il",
        "outputId": "a7a5bab7-00a9-429d-a0f3-b0a8d376a59d"
      },
      "execution_count": 16,
      "outputs": [
        {
          "output_type": "execute_result",
          "data": {
            "text/plain": [
              "M    5142\n",
              "S    5139\n",
              "Name: marital_status, dtype: int64"
            ]
          },
          "metadata": {},
          "execution_count": 16
        }
      ]
    },
    {
      "cell_type": "code",
      "source": [
        "data['total_children'].value_counts()"
      ],
      "metadata": {
        "colab": {
          "base_uri": "https://localhost:8080/"
        },
        "id": "P_vgGBsiZ9ZO",
        "outputId": "36b6d39a-7bc9-432f-a1a5-26537a320ddb"
      },
      "execution_count": 17,
      "outputs": [
        {
          "output_type": "execute_result",
          "data": {
            "text/plain": [
              "2    2068\n",
              "4    2063\n",
              "3    2059\n",
              "1    2025\n",
              "0    1038\n",
              "5    1028\n",
              "Name: total_children, dtype: int64"
            ]
          },
          "metadata": {},
          "execution_count": 17
        }
      ]
    },
    {
      "cell_type": "code",
      "source": [
        "data['education'].value_counts()"
      ],
      "metadata": {
        "colab": {
          "base_uri": "https://localhost:8080/"
        },
        "id": "A8JUEgD6aAe-",
        "outputId": "00b4e59a-3788-4e0e-ec05-cf20a5337d3b"
      },
      "execution_count": 18,
      "outputs": [
        {
          "output_type": "execute_result",
          "data": {
            "text/plain": [
              "Partial High School    3094\n",
              "High School Degree     3039\n",
              "Bachelors Degree       2619\n",
              "Partial College         990\n",
              "Graduate Degree         539\n",
              "Name: education, dtype: int64"
            ]
          },
          "metadata": {},
          "execution_count": 18
        }
      ]
    },
    {
      "cell_type": "code",
      "source": [
        "data['member_card'].value_counts()"
      ],
      "metadata": {
        "colab": {
          "base_uri": "https://localhost:8080/"
        },
        "id": "zXa3BcqTaDv4",
        "outputId": "70a6878a-0326-4487-a8fe-baa52f0d1249"
      },
      "execution_count": 24,
      "outputs": [
        {
          "output_type": "execute_result",
          "data": {
            "text/plain": [
              "Bronze    5703\n",
              "Normal    2420\n",
              "Golden    1198\n",
              "Silver     960\n",
              "Name: member_card, dtype: int64"
            ]
          },
          "metadata": {},
          "execution_count": 24
        }
      ]
    }
  ]
}